{
 "cells": [
  {
   "cell_type": "markdown",
   "id": "2adf2527",
   "metadata": {},
   "source": [
    "# Исследование пользователей мобильного приложения"
   ]
  },
  {
   "cell_type": "markdown",
   "id": "ff7d62b8",
   "metadata": {},
   "source": [
    "**Описание:** <br>\n",
    "Наш стартап продаёт продукты питания. Нужно разобраться, как ведут себя пользователи нашего мобильного приложения. Изучить воронку продаж:\n",
    "\n",
    "- как пользователи доходят до покупки\n",
    "- сколько пользователей доходит до покупки\n",
    "- сколько и где «застревают» на предыдущих шагах\n",
    "\n",
    "Провести исследование результатов A/A/B-эксперимента. <br>\n",
    "Дизайнеры захотели поменять шрифты во всём приложении, а менеджеры испугались, что пользователям будет непривычно. Договорились принять решение по результатам A/A/B-теста. Пользователей разбили на 3 группы: 2 контрольные со старыми шрифтами и одну экспериментальную — с новыми. Нужно выяснить, какой шрифт лучше.\n",
    "\n",
    "Создание двух групп A вместо одной имеет определённые преимущества. Если две контрольные группы окажутся равны, можно быть уверенным в точности проведенного тестирования. Если же между значениями A и A будут существенные различия, это поможет обнаружить факторы, которые привели к искажению результатов. Сравнение контрольных групп также помогает понять, сколько времени и данных потребуется для дальнейших тестов."
   ]
  },
  {
   "cell_type": "markdown",
   "id": "ded6e998",
   "metadata": {},
   "source": [
    "## Предварительный анализ данных"
   ]
  },
  {
   "cell_type": "markdown",
   "id": "8b2c6d3d",
   "metadata": {},
   "source": [
    "**Описание данных:**\n",
    "\n",
    "В нашем распоряжении логи мобильного приложения из файла logs_exp.csv <br>\n",
    "Каждая запись в логе — это действие пользователя, или событие:\n",
    "\n",
    "- **EventName** — название события;\n",
    "- **DeviceIDHash** — уникальный идентификатор пользователя;\n",
    "- **EventTimestamp** — время события;\n",
    "- **ExpId** — номер эксперимента: 246 и 247 — контрольные группы, а 248 — экспериментальная.\n"
   ]
  },
  {
   "cell_type": "code",
   "execution_count": 1,
   "id": "f935f49a",
   "metadata": {},
   "outputs": [],
   "source": [
    "# Импорт необходимых библиотек\n",
    "import pandas as pd\n",
    "import numpy as np\n",
    "import seaborn as sns\n",
    "import math as mth\n",
    "import matplotlib.pyplot as plt\n",
    "from scipy import stats as st\n",
    "pd.set_option('display.max_columns', None)\n",
    "pd.set_option('max_colwidth', 100)\n",
    "pd.set_option('mode.chained_assignment', None)"
   ]
  },
  {
   "cell_type": "code",
   "execution_count": 2,
   "id": "c34815ff",
   "metadata": {},
   "outputs": [],
   "source": [
    "# Выгрузка данных\n",
    "try:\n",
    "    logs = pd.read_csv('D:/Practicum/Аналитика данных/Сборный проект 2/Проект/logs_exp.csv', sep = '\\t')\n",
    "except:\n",
    "    logs = pd.read_csv('https://code.s3.yandex.net/datasets/logs_exp.csv', sep = '\\t')"
   ]
  },
  {
   "cell_type": "code",
   "execution_count": 3,
   "id": "166923cc",
   "metadata": {},
   "outputs": [
    {
     "data": {
      "text/html": [
       "<div>\n",
       "<style scoped>\n",
       "    .dataframe tbody tr th:only-of-type {\n",
       "        vertical-align: middle;\n",
       "    }\n",
       "\n",
       "    .dataframe tbody tr th {\n",
       "        vertical-align: top;\n",
       "    }\n",
       "\n",
       "    .dataframe thead th {\n",
       "        text-align: right;\n",
       "    }\n",
       "</style>\n",
       "<table border=\"1\" class=\"dataframe\">\n",
       "  <thead>\n",
       "    <tr style=\"text-align: right;\">\n",
       "      <th></th>\n",
       "      <th>EventName</th>\n",
       "      <th>DeviceIDHash</th>\n",
       "      <th>EventTimestamp</th>\n",
       "      <th>ExpId</th>\n",
       "    </tr>\n",
       "  </thead>\n",
       "  <tbody>\n",
       "    <tr>\n",
       "      <th>0</th>\n",
       "      <td>MainScreenAppear</td>\n",
       "      <td>4575588528974610257</td>\n",
       "      <td>1564029816</td>\n",
       "      <td>246</td>\n",
       "    </tr>\n",
       "    <tr>\n",
       "      <th>1</th>\n",
       "      <td>MainScreenAppear</td>\n",
       "      <td>7416695313311560658</td>\n",
       "      <td>1564053102</td>\n",
       "      <td>246</td>\n",
       "    </tr>\n",
       "    <tr>\n",
       "      <th>2</th>\n",
       "      <td>PaymentScreenSuccessful</td>\n",
       "      <td>3518123091307005509</td>\n",
       "      <td>1564054127</td>\n",
       "      <td>248</td>\n",
       "    </tr>\n",
       "    <tr>\n",
       "      <th>3</th>\n",
       "      <td>CartScreenAppear</td>\n",
       "      <td>3518123091307005509</td>\n",
       "      <td>1564054127</td>\n",
       "      <td>248</td>\n",
       "    </tr>\n",
       "    <tr>\n",
       "      <th>4</th>\n",
       "      <td>PaymentScreenSuccessful</td>\n",
       "      <td>6217807653094995999</td>\n",
       "      <td>1564055322</td>\n",
       "      <td>248</td>\n",
       "    </tr>\n",
       "  </tbody>\n",
       "</table>\n",
       "</div>"
      ],
      "text/plain": [
       "                 EventName         DeviceIDHash  EventTimestamp  ExpId\n",
       "0         MainScreenAppear  4575588528974610257      1564029816    246\n",
       "1         MainScreenAppear  7416695313311560658      1564053102    246\n",
       "2  PaymentScreenSuccessful  3518123091307005509      1564054127    248\n",
       "3         CartScreenAppear  3518123091307005509      1564054127    248\n",
       "4  PaymentScreenSuccessful  6217807653094995999      1564055322    248"
      ]
     },
     "metadata": {},
     "output_type": "display_data"
    },
    {
     "name": "stdout",
     "output_type": "stream",
     "text": [
      "<class 'pandas.core.frame.DataFrame'>\n",
      "RangeIndex: 244126 entries, 0 to 244125\n",
      "Data columns (total 4 columns):\n",
      " #   Column          Non-Null Count   Dtype \n",
      "---  ------          --------------   ----- \n",
      " 0   EventName       244126 non-null  object\n",
      " 1   DeviceIDHash    244126 non-null  int64 \n",
      " 2   EventTimestamp  244126 non-null  int64 \n",
      " 3   ExpId           244126 non-null  int64 \n",
      "dtypes: int64(3), object(1)\n",
      "memory usage: 7.5+ MB\n"
     ]
    },
    {
     "data": {
      "text/plain": [
       "None"
      ]
     },
     "metadata": {},
     "output_type": "display_data"
    },
    {
     "name": "stdout",
     "output_type": "stream",
     "text": [
      "Кол-во пропусков: EventName         0\n",
      "DeviceIDHash      0\n",
      "EventTimestamp    0\n",
      "ExpId             0\n",
      "dtype: int64\n",
      "Кол-во дубликатов: 413\n"
     ]
    }
   ],
   "source": [
    "# Просмотр основной информации о данных, пропусках и поиск возможных явных дубликатов\n",
    "display(logs.head())\n",
    "display(logs.info())\n",
    "print(f'Кол-во пропусков: {logs.isna().sum()}')\n",
    "print(f'Кол-во дубликатов: {logs.duplicated().sum()}')"
   ]
  },
  {
   "cell_type": "markdown",
   "id": "459fe76b",
   "metadata": {},
   "source": [
    "Пропусков в данных нет, однако есть места, где нужно навести порядок:\n",
    "1. названия столбцов привести к snake case\n",
    "2. преобразовать тип данных о времени\n",
    "3. убрать дубликаты"
   ]
  },
  {
   "cell_type": "markdown",
   "id": "31169ea3",
   "metadata": {},
   "source": [
    "## Предобработка данных"
   ]
  },
  {
   "cell_type": "markdown",
   "id": "5a1d9129",
   "metadata": {},
   "source": [
    "Приведем названия столбцов к snake case, а также добавим столбец даты и времени, а также отдельный столбец дат."
   ]
  },
  {
   "cell_type": "code",
   "execution_count": 4,
   "id": "9611af18",
   "metadata": {},
   "outputs": [],
   "source": [
    "# переименовывание столбцов\n",
    "logs = logs.rename(columns = \\\n",
    "               {'EventName':'event_name', 'DeviceIDHash':'user_id', 'EventTimestamp':'event_time', 'ExpId':'group'})"
   ]
  },
  {
   "cell_type": "code",
   "execution_count": 5,
   "id": "c705cdea",
   "metadata": {},
   "outputs": [],
   "source": [
    "# приведение типа данных и добавление столбца с датой\n",
    "logs['event_time'] = pd.to_datetime(logs['event_time'], unit='s')\n",
    "logs['date'] = logs['event_time'].dt.date"
   ]
  },
  {
   "cell_type": "code",
   "execution_count": 6,
   "id": "117441da",
   "metadata": {},
   "outputs": [],
   "source": [
    "# удаление дубликатов\n",
    "logs = logs.drop_duplicates().reset_index(drop=True)"
   ]
  },
  {
   "cell_type": "code",
   "execution_count": 7,
   "id": "bd0c6eb3",
   "metadata": {},
   "outputs": [],
   "source": [
    "# переименуем обозначения кнотрольных групп\n",
    "def rename_group(group):\n",
    "    if group == 246:\n",
    "        return 'A1'\n",
    "    elif group == 247:\n",
    "        return 'A2'\n",
    "    elif group == 248:\n",
    "        return 'B'\n",
    "    else:\n",
    "        return 'не определено'\n",
    "\n",
    "logs['group'] = logs['group'].apply(rename_group)"
   ]
  },
  {
   "cell_type": "code",
   "execution_count": 8,
   "id": "568dd8ce",
   "metadata": {},
   "outputs": [
    {
     "data": {
      "text/html": [
       "<div>\n",
       "<style scoped>\n",
       "    .dataframe tbody tr th:only-of-type {\n",
       "        vertical-align: middle;\n",
       "    }\n",
       "\n",
       "    .dataframe tbody tr th {\n",
       "        vertical-align: top;\n",
       "    }\n",
       "\n",
       "    .dataframe thead th {\n",
       "        text-align: right;\n",
       "    }\n",
       "</style>\n",
       "<table border=\"1\" class=\"dataframe\">\n",
       "  <thead>\n",
       "    <tr style=\"text-align: right;\">\n",
       "      <th></th>\n",
       "      <th>event_name</th>\n",
       "      <th>user_id</th>\n",
       "      <th>event_time</th>\n",
       "      <th>group</th>\n",
       "      <th>date</th>\n",
       "    </tr>\n",
       "  </thead>\n",
       "  <tbody>\n",
       "    <tr>\n",
       "      <th>0</th>\n",
       "      <td>MainScreenAppear</td>\n",
       "      <td>4575588528974610257</td>\n",
       "      <td>2019-07-25 04:43:36</td>\n",
       "      <td>A1</td>\n",
       "      <td>2019-07-25</td>\n",
       "    </tr>\n",
       "    <tr>\n",
       "      <th>1</th>\n",
       "      <td>MainScreenAppear</td>\n",
       "      <td>7416695313311560658</td>\n",
       "      <td>2019-07-25 11:11:42</td>\n",
       "      <td>A1</td>\n",
       "      <td>2019-07-25</td>\n",
       "    </tr>\n",
       "    <tr>\n",
       "      <th>2</th>\n",
       "      <td>PaymentScreenSuccessful</td>\n",
       "      <td>3518123091307005509</td>\n",
       "      <td>2019-07-25 11:28:47</td>\n",
       "      <td>B</td>\n",
       "      <td>2019-07-25</td>\n",
       "    </tr>\n",
       "    <tr>\n",
       "      <th>3</th>\n",
       "      <td>CartScreenAppear</td>\n",
       "      <td>3518123091307005509</td>\n",
       "      <td>2019-07-25 11:28:47</td>\n",
       "      <td>B</td>\n",
       "      <td>2019-07-25</td>\n",
       "    </tr>\n",
       "    <tr>\n",
       "      <th>4</th>\n",
       "      <td>PaymentScreenSuccessful</td>\n",
       "      <td>6217807653094995999</td>\n",
       "      <td>2019-07-25 11:48:42</td>\n",
       "      <td>B</td>\n",
       "      <td>2019-07-25</td>\n",
       "    </tr>\n",
       "  </tbody>\n",
       "</table>\n",
       "</div>"
      ],
      "text/plain": [
       "                event_name              user_id          event_time group  \\\n",
       "0         MainScreenAppear  4575588528974610257 2019-07-25 04:43:36    A1   \n",
       "1         MainScreenAppear  7416695313311560658 2019-07-25 11:11:42    A1   \n",
       "2  PaymentScreenSuccessful  3518123091307005509 2019-07-25 11:28:47     B   \n",
       "3         CartScreenAppear  3518123091307005509 2019-07-25 11:28:47     B   \n",
       "4  PaymentScreenSuccessful  6217807653094995999 2019-07-25 11:48:42     B   \n",
       "\n",
       "         date  \n",
       "0  2019-07-25  \n",
       "1  2019-07-25  \n",
       "2  2019-07-25  \n",
       "3  2019-07-25  \n",
       "4  2019-07-25  "
      ]
     },
     "metadata": {},
     "output_type": "display_data"
    },
    {
     "name": "stdout",
     "output_type": "stream",
     "text": [
      "<class 'pandas.core.frame.DataFrame'>\n",
      "RangeIndex: 243713 entries, 0 to 243712\n",
      "Data columns (total 5 columns):\n",
      " #   Column      Non-Null Count   Dtype         \n",
      "---  ------      --------------   -----         \n",
      " 0   event_name  243713 non-null  object        \n",
      " 1   user_id     243713 non-null  int64         \n",
      " 2   event_time  243713 non-null  datetime64[ns]\n",
      " 3   group       243713 non-null  object        \n",
      " 4   date        243713 non-null  object        \n",
      "dtypes: datetime64[ns](1), int64(1), object(3)\n",
      "memory usage: 9.3+ MB\n"
     ]
    },
    {
     "data": {
      "text/plain": [
       "None"
      ]
     },
     "metadata": {},
     "output_type": "display_data"
    }
   ],
   "source": [
    "# посмотрим, что получилось\n",
    "display(logs.head())\n",
    "display(logs.info())"
   ]
  },
  {
   "cell_type": "markdown",
   "id": "8684637c",
   "metadata": {},
   "source": [
    "Данные приведены в порядок и готовы к дальнейшему анализу."
   ]
  },
  {
   "cell_type": "markdown",
   "id": "aeed8a87",
   "metadata": {},
   "source": [
    "## Анализ данных"
   ]
  },
  {
   "cell_type": "markdown",
   "id": "e255efb5",
   "metadata": {},
   "source": [
    "Сначала определим сколько всего событий, сколько пользователей и сколько событий на пользователя в логе"
   ]
  },
  {
   "cell_type": "code",
   "execution_count": 9,
   "id": "9282ebdb",
   "metadata": {},
   "outputs": [
    {
     "name": "stdout",
     "output_type": "stream",
     "text": [
      "Всего в логе 243713 событий, 7551 пользователей\n",
      "В среднем на пользователя приходится 32 события.\n"
     ]
    }
   ],
   "source": [
    "print(f'Всего в логе {logs.event_name.count()} событий, {logs.user_id.nunique()} пользователей')\n",
    "print(f'В среднем на пользователя приходится {int(len(logs) / logs.user_id.nunique())} события.')"
   ]
  },
  {
   "cell_type": "markdown",
   "id": "256fa001",
   "metadata": {},
   "source": [
    "Определим, данными за какой период мы располагаем. Найдем максимальную и минимальную дату. Построим гистограмму по дате и времени. Технически в логи новых дней по некоторым пользователям могут «доезжать» события из прошлого — это может «перекашивать данные». Определим, с какого момента данные полные и отбросим более старые."
   ]
  },
  {
   "cell_type": "code",
   "execution_count": 10,
   "id": "ddadfc9a",
   "metadata": {},
   "outputs": [
    {
     "name": "stdout",
     "output_type": "stream",
     "text": [
      "Период данных который у нас есть: 2019-07-25 04:43:36 - 2019-08-07 21:15:17\n",
      "Период времени составляет: 13 days 16:31:41\n"
     ]
    }
   ],
   "source": [
    "print(f'Период данных который у нас есть: {logs.event_time.min()} - {logs.event_time.max()}')\n",
    "print(f'Период времени составляет: {logs.event_time.max() - logs.event_time.min()}')"
   ]
  },
  {
   "cell_type": "code",
   "execution_count": 11,
   "id": "c8a3421b",
   "metadata": {},
   "outputs": [
    {
     "data": {
      "image/png": "[encoded data removed]",
      "text/plain": [
       "<Figure size 1200x400 with 1 Axes>"
      ]
     },
     "metadata": {},
     "output_type": "display_data"
    }
   ],
   "source": [
    "# Построим гистограмму\n",
    "plt.figure(figsize = (12,4))\n",
    "logs.event_time.hist(bins = logs.date.nunique(), edgecolor = 'black')\n",
    "plt.title('Гистограмма по дате и времени')\n",
    "plt.ylabel('Кол-во событий')\n",
    "plt.xlabel('Дата')\n",
    "plt.xticks(rotation = 30)\n",
    "plt.grid()\n",
    "plt.show()"
   ]
  },
  {
   "cell_type": "code",
   "execution_count": 12,
   "id": "060c9e35",
   "metadata": {},
   "outputs": [
    {
     "data": {
      "image/png": "[encoded data removed]",
      "text/plain": [
       "<Figure size 1400x500 with 1 Axes>"
      ]
     },
     "metadata": {},
     "output_type": "display_data"
    }
   ],
   "source": [
    "# код ревьюера\n",
    "logs['event_time'].hist(bins=14*24, figsize=(14, 5));"
   ]
  },
  {
   "cell_type": "markdown",
   "id": "5b110c2a",
   "metadata": {},
   "source": [
    "В данных информация за две недели: с 25 июля по 7 августа 2019 года, однако видно, что 1 августа происходит резкий скачок количества событий, то есть в первую неделю данные неполные. Отфильтруем их."
   ]
  },
  {
   "cell_type": "code",
   "execution_count": 13,
   "id": "c9adea1a",
   "metadata": {
    "scrolled": true
   },
   "outputs": [
    {
     "data": {
      "text/html": [
       "<div>\n",
       "<style scoped>\n",
       "    .dataframe tbody tr th:only-of-type {\n",
       "        vertical-align: middle;\n",
       "    }\n",
       "\n",
       "    .dataframe tbody tr th {\n",
       "        vertical-align: top;\n",
       "    }\n",
       "\n",
       "    .dataframe thead th {\n",
       "        text-align: right;\n",
       "    }\n",
       "</style>\n",
       "<table border=\"1\" class=\"dataframe\">\n",
       "  <thead>\n",
       "    <tr style=\"text-align: right;\">\n",
       "      <th></th>\n",
       "      <th>event_name</th>\n",
       "      <th>user_id</th>\n",
       "      <th>event_time</th>\n",
       "      <th>group</th>\n",
       "      <th>date</th>\n",
       "    </tr>\n",
       "  </thead>\n",
       "  <tbody>\n",
       "    <tr>\n",
       "      <th>0</th>\n",
       "      <td>Tutorial</td>\n",
       "      <td>3737462046622621720</td>\n",
       "      <td>2019-08-01 00:07:28</td>\n",
       "      <td>A1</td>\n",
       "      <td>2019-08-01</td>\n",
       "    </tr>\n",
       "    <tr>\n",
       "      <th>1</th>\n",
       "      <td>MainScreenAppear</td>\n",
       "      <td>3737462046622621720</td>\n",
       "      <td>2019-08-01 00:08:00</td>\n",
       "      <td>A1</td>\n",
       "      <td>2019-08-01</td>\n",
       "    </tr>\n",
       "    <tr>\n",
       "      <th>2</th>\n",
       "      <td>MainScreenAppear</td>\n",
       "      <td>3737462046622621720</td>\n",
       "      <td>2019-08-01 00:08:55</td>\n",
       "      <td>A1</td>\n",
       "      <td>2019-08-01</td>\n",
       "    </tr>\n",
       "    <tr>\n",
       "      <th>3</th>\n",
       "      <td>OffersScreenAppear</td>\n",
       "      <td>3737462046622621720</td>\n",
       "      <td>2019-08-01 00:08:58</td>\n",
       "      <td>A1</td>\n",
       "      <td>2019-08-01</td>\n",
       "    </tr>\n",
       "    <tr>\n",
       "      <th>4</th>\n",
       "      <td>MainScreenAppear</td>\n",
       "      <td>1433840883824088890</td>\n",
       "      <td>2019-08-01 00:08:59</td>\n",
       "      <td>A2</td>\n",
       "      <td>2019-08-01</td>\n",
       "    </tr>\n",
       "  </tbody>\n",
       "</table>\n",
       "</div>"
      ],
      "text/plain": [
       "           event_name              user_id          event_time group  \\\n",
       "0            Tutorial  3737462046622621720 2019-08-01 00:07:28    A1   \n",
       "1    MainScreenAppear  3737462046622621720 2019-08-01 00:08:00    A1   \n",
       "2    MainScreenAppear  3737462046622621720 2019-08-01 00:08:55    A1   \n",
       "3  OffersScreenAppear  3737462046622621720 2019-08-01 00:08:58    A1   \n",
       "4    MainScreenAppear  1433840883824088890 2019-08-01 00:08:59    A2   \n",
       "\n",
       "         date  \n",
       "0  2019-08-01  \n",
       "1  2019-08-01  \n",
       "2  2019-08-01  \n",
       "3  2019-08-01  \n",
       "4  2019-08-01  "
      ]
     },
     "execution_count": 13,
     "metadata": {},
     "output_type": "execute_result"
    }
   ],
   "source": [
    "logs_new = logs.query('date > datetime(2019, 7, 31).date()').reset_index(drop = True)\n",
    "logs_new.sort_values(by = 'event_time').head()"
   ]
  },
  {
   "cell_type": "markdown",
   "id": "3615e89c",
   "metadata": {},
   "source": [
    "Посмотрим, за какой период времени мы распологаем на самом деле."
   ]
  },
  {
   "cell_type": "code",
   "execution_count": 14,
   "id": "6728e8ae",
   "metadata": {},
   "outputs": [
    {
     "name": "stdout",
     "output_type": "stream",
     "text": [
      "Период данных который у нас есть: 2019-08-01 00:07:28 - 2019-08-07 21:15:17\n",
      "Период времени составляет: 6 days 21:07:49\n"
     ]
    }
   ],
   "source": [
    "print(f'Период данных который у нас есть: {logs_new.event_time.min()} - {logs_new.event_time.max()}')\n",
    "print(f'Период времени составляет: {logs_new.event_time.max() - logs_new.event_time.min()}')"
   ]
  },
  {
   "cell_type": "markdown",
   "id": "877f20b6",
   "metadata": {},
   "source": [
    "Определим, сколько событий и пользователей теряется, если отбросить старые данные."
   ]
  },
  {
   "cell_type": "code",
   "execution_count": 15,
   "id": "d9dceed2",
   "metadata": {},
   "outputs": [
    {
     "name": "stdout",
     "output_type": "stream",
     "text": [
      "Всего в логе 243713 событий, 7551 пользователей до очистки\n",
      "Всего в логе 240887 событий, 7534 пользователей после очистки\n",
      "Потеря событий: 2826, что составляет 1.1595606307418973 %\n",
      "Потеря пользователей: 17, что составляет 0.22513574361011787 %\n"
     ]
    }
   ],
   "source": [
    "print(f'Всего в логе {logs.event_name.count()} событий, {logs.user_id.nunique()} пользователей до очистки')\n",
    "print(f'Всего в логе {logs_new.event_name.count()} событий, {logs_new.user_id.nunique()} пользователей после очистки')\n",
    "print(f'Потеря событий: {logs.event_name.count() - logs_new.event_name.count()}, '\n",
    "      f'что составляет {(logs.event_name.count() - logs_new.event_name.count()) * 100 / logs.event_name.count()} %')\n",
    "print(f'Потеря пользователей: {logs.user_id.nunique() - logs_new.user_id.nunique()}, '\n",
    "      f'что составляет {(logs.user_id.nunique() - logs_new.user_id.nunique()) * 100 / logs.user_id.nunique()} %')"
   ]
  },
  {
   "cell_type": "markdown",
   "id": "ddf3be00",
   "metadata": {},
   "source": [
    "После отчистки данных потери составляют около 1% событий и пользователей, это приемлемый результат. Далее определим, распределение пользователей по группам."
   ]
  },
  {
   "cell_type": "code",
   "execution_count": 16,
   "id": "fedfe54f",
   "metadata": {
    "scrolled": false
   },
   "outputs": [
    {
     "data": {
      "text/plain": [
       "group\n",
       "A1    2484\n",
       "A2    2513\n",
       "B     2537\n",
       "Name: user_id, dtype: int64"
      ]
     },
     "execution_count": 16,
     "metadata": {},
     "output_type": "execute_result"
    }
   ],
   "source": [
    "logs_new.groupby('group')['user_id'].nunique()"
   ]
  },
  {
   "cell_type": "markdown",
   "id": "339e2e7e",
   "metadata": {},
   "source": [
    "Проверим, есть ли пользователи, попавшие сразу в несколько групп теста."
   ]
  },
  {
   "cell_type": "code",
   "execution_count": 17,
   "id": "a57015bf",
   "metadata": {},
   "outputs": [
    {
     "data": {
      "text/html": [
       "<div>\n",
       "<style scoped>\n",
       "    .dataframe tbody tr th:only-of-type {\n",
       "        vertical-align: middle;\n",
       "    }\n",
       "\n",
       "    .dataframe tbody tr th {\n",
       "        vertical-align: top;\n",
       "    }\n",
       "\n",
       "    .dataframe thead th {\n",
       "        text-align: right;\n",
       "    }\n",
       "</style>\n",
       "<table border=\"1\" class=\"dataframe\">\n",
       "  <thead>\n",
       "    <tr style=\"text-align: right;\">\n",
       "      <th></th>\n",
       "      <th>user_id</th>\n",
       "      <th>group</th>\n",
       "    </tr>\n",
       "  </thead>\n",
       "  <tbody>\n",
       "    <tr>\n",
       "      <th>0</th>\n",
       "      <td>6888746892508752</td>\n",
       "      <td>1</td>\n",
       "    </tr>\n",
       "    <tr>\n",
       "      <th>1</th>\n",
       "      <td>6909561520679493</td>\n",
       "      <td>1</td>\n",
       "    </tr>\n",
       "    <tr>\n",
       "      <th>2</th>\n",
       "      <td>6922444491712477</td>\n",
       "      <td>1</td>\n",
       "    </tr>\n",
       "    <tr>\n",
       "      <th>3</th>\n",
       "      <td>7435777799948366</td>\n",
       "      <td>1</td>\n",
       "    </tr>\n",
       "    <tr>\n",
       "      <th>4</th>\n",
       "      <td>7702139951469979</td>\n",
       "      <td>1</td>\n",
       "    </tr>\n",
       "  </tbody>\n",
       "</table>\n",
       "</div>"
      ],
      "text/plain": [
       "            user_id  group\n",
       "0  6888746892508752      1\n",
       "1  6909561520679493      1\n",
       "2  6922444491712477      1\n",
       "3  7435777799948366      1\n",
       "4  7702139951469979      1"
      ]
     },
     "metadata": {},
     "output_type": "display_data"
    },
    {
     "data": {
      "text/plain": [
       "0"
      ]
     },
     "execution_count": 17,
     "metadata": {},
     "output_type": "execute_result"
    }
   ],
   "source": [
    "duplicated_users = logs_new.groupby('user_id').agg({'group':'nunique'}).reset_index()\n",
    "display(duplicated_users.head())\n",
    "len(duplicated_users.query('group > 1'))"
   ]
  },
  {
   "cell_type": "markdown",
   "id": "80038748",
   "metadata": {},
   "source": [
    "Даннные о пользователях имеются из всех трех экспериментальных групп, распределение примерно одинаковое. Нет пользователей, которые попали сразу в несколько групп."
   ]
  },
  {
   "cell_type": "markdown",
   "id": "d63c5815",
   "metadata": {},
   "source": [
    "**Выводы:**\n",
    "\n",
    "Мы выяснили, что изначально в логе было 243713 событий и 7551 пользователей, определили период данных с 2019-07-25 04:43:36 по 2019-08-07 21:15:17. <br>\n",
    "Однако только начиная с 1 августа данные можно считать полными, поэтому удалили часть данных за первую неделю. Отбросив старые данные мы потеряли 17 пользователей и 2826 событий (около 1%). <br>\n",
    "При этом данные о пользователях есть из всех трёх экспериментальных групп, все пользователи находятся в рахных группах."
   ]
  },
  {
   "cell_type": "markdown",
   "id": "f1e22ef7",
   "metadata": {},
   "source": [
    "## Анализ воронки событий"
   ]
  },
  {
   "cell_type": "markdown",
   "id": "43917e00",
   "metadata": {},
   "source": [
    "Изучим, какие события и как часто встречаются в логах."
   ]
  },
  {
   "cell_type": "code",
   "execution_count": 18,
   "id": "cb5e7e84",
   "metadata": {},
   "outputs": [
    {
     "data": {
      "text/plain": [
       "MainScreenAppear           117328\n",
       "OffersScreenAppear          46333\n",
       "CartScreenAppear            42303\n",
       "PaymentScreenSuccessful     33918\n",
       "Tutorial                     1005\n",
       "Name: event_name, dtype: int64"
      ]
     },
     "execution_count": 18,
     "metadata": {},
     "output_type": "execute_result"
    }
   ],
   "source": [
    "logs_new['event_name'].value_counts()"
   ]
  },
  {
   "cell_type": "markdown",
   "id": "748aad90",
   "metadata": {},
   "source": [
    "Всего 5 событий:\n",
    "\n",
    "- *MainScreenAppear* - просмотр главной страницы\n",
    "- *OffersScreenAppear* - просмотр страницы предложений\n",
    "- *CartScreenAppear* - просмотр корзины\n",
    "- *PaymentScreenSuccessful* - переход на страницу успешной оплаты\n",
    "- *Tutorial* - просмотр обучающей информации для новых пользователей\n",
    "\n",
    "Первые четыре события образуют последовательную цепочку движения пользователя по приложению. Обучение (Tutorial) не является обязательным этапом, что объясняет такое малое его количество в логах."
   ]
  },
  {
   "cell_type": "markdown",
   "id": "18391999",
   "metadata": {},
   "source": [
    "Посчитаем, сколько пользователей совершали каждое из этих событий."
   ]
  },
  {
   "cell_type": "code",
   "execution_count": 19,
   "id": "c1bc560d",
   "metadata": {},
   "outputs": [
    {
     "data": {
      "text/html": [
       "<div>\n",
       "<style scoped>\n",
       "    .dataframe tbody tr th:only-of-type {\n",
       "        vertical-align: middle;\n",
       "    }\n",
       "\n",
       "    .dataframe tbody tr th {\n",
       "        vertical-align: top;\n",
       "    }\n",
       "\n",
       "    .dataframe thead th {\n",
       "        text-align: right;\n",
       "    }\n",
       "</style>\n",
       "<table border=\"1\" class=\"dataframe\">\n",
       "  <thead>\n",
       "    <tr style=\"text-align: right;\">\n",
       "      <th></th>\n",
       "      <th>event_name</th>\n",
       "      <th>total_users</th>\n",
       "      <th>%</th>\n",
       "    </tr>\n",
       "  </thead>\n",
       "  <tbody>\n",
       "    <tr>\n",
       "      <th>0</th>\n",
       "      <td>MainScreenAppear</td>\n",
       "      <td>7419</td>\n",
       "      <td>98.47</td>\n",
       "    </tr>\n",
       "    <tr>\n",
       "      <th>1</th>\n",
       "      <td>OffersScreenAppear</td>\n",
       "      <td>4593</td>\n",
       "      <td>60.96</td>\n",
       "    </tr>\n",
       "    <tr>\n",
       "      <th>2</th>\n",
       "      <td>CartScreenAppear</td>\n",
       "      <td>3734</td>\n",
       "      <td>49.56</td>\n",
       "    </tr>\n",
       "    <tr>\n",
       "      <th>3</th>\n",
       "      <td>PaymentScreenSuccessful</td>\n",
       "      <td>3539</td>\n",
       "      <td>46.97</td>\n",
       "    </tr>\n",
       "    <tr>\n",
       "      <th>4</th>\n",
       "      <td>Tutorial</td>\n",
       "      <td>840</td>\n",
       "      <td>11.15</td>\n",
       "    </tr>\n",
       "  </tbody>\n",
       "</table>\n",
       "</div>"
      ],
      "text/plain": [
       "                event_name  total_users      %\n",
       "0         MainScreenAppear         7419  98.47\n",
       "1       OffersScreenAppear         4593  60.96\n",
       "2         CartScreenAppear         3734  49.56\n",
       "3  PaymentScreenSuccessful         3539  46.97\n",
       "4                 Tutorial          840  11.15"
      ]
     },
     "execution_count": 19,
     "metadata": {},
     "output_type": "execute_result"
    }
   ],
   "source": [
    "events_hole = (\n",
    "    logs_new.groupby('event_name')['user_id'].nunique()\n",
    "    .sort_values(ascending = False)\n",
    "    .to_frame()\n",
    "    .reset_index()\n",
    ")\n",
    "events_hole.columns = ['event_name', 'total_users']\n",
    "\n",
    "events_hole['%'] = (events_hole['total_users'] / logs_new['user_id'].nunique() * 100).round(2)\n",
    "events_hole"
   ]
  },
  {
   "cell_type": "markdown",
   "id": "74bddac4",
   "metadata": {},
   "source": []
  },
  {
   "cell_type": "code",
   "execution_count": 20,
   "id": "f3ca6563",
   "metadata": {
    "scrolled": false
   },
   "outputs": [
    {
     "data": {
      "image/png": "[encoded data removed]",
      "text/plain": [
       "<Figure size 1200x400 with 1 Axes>"
      ]
     },
     "metadata": {},
     "output_type": "display_data"
    }
   ],
   "source": [
    "plt.figure(figsize = (12,4))\n",
    "sns.barplot(y = 'total_users', x = 'event_name', data = events_hole, palette='rocket')\n",
    "plt.title('Пользование приложением')\n",
    "plt.xlabel('Событие')\n",
    "plt.ylabel('Количество пользователей')\n",
    "plt.show()"
   ]
  },
  {
   "cell_type": "markdown",
   "id": "2eb7c834",
   "metadata": {},
   "source": [
    "Если судить по количеству событий, то обучение должно быть в самом низу воронки, так как оно самое малочисленное, однако это не так. Обычно данное событие проходят (или пропускают) в самом начале для того, чтобы в дальнейшем было более понятно, как пользоваться приложением. Большинство пользователей предпочитают пропускать обучающие материалы и сразу переходят к действиям. Исходя из логики вещей имеем следующий порядок событий:\n",
    "\n",
    "1. MainScreenAppear - главный экран\n",
    "2. Tutorial - прохождение обучения по пользованию приложения (по желанию)\n",
    "3. OffersScreenAppear - товар\n",
    "4. CartScreenAppear - корзина\n",
    "5. PaymentScreenSuccessful - успешная оплата заказа\n",
    "\n",
    "При расчете воронки не стоит учитывать страницу обучения."
   ]
  },
  {
   "cell_type": "markdown",
   "id": "6c9f3264",
   "metadata": {},
   "source": [
    "Узнаем, какая доля пользователей проходит на следующий шаг воронки (от числа пользователей на предыдущем), на каком шаге теряеется больше всего пользователей и какая доля пользователей доходит от первого события до оплаты. "
   ]
  },
  {
   "cell_type": "code",
   "execution_count": 21,
   "id": "c24e756a",
   "metadata": {},
   "outputs": [
    {
     "data": {
      "text/html": [
       "<div>\n",
       "<style scoped>\n",
       "    .dataframe tbody tr th:only-of-type {\n",
       "        vertical-align: middle;\n",
       "    }\n",
       "\n",
       "    .dataframe tbody tr th {\n",
       "        vertical-align: top;\n",
       "    }\n",
       "\n",
       "    .dataframe thead th {\n",
       "        text-align: right;\n",
       "    }\n",
       "</style>\n",
       "<table border=\"1\" class=\"dataframe\">\n",
       "  <thead>\n",
       "    <tr style=\"text-align: right;\">\n",
       "      <th></th>\n",
       "      <th>event_name</th>\n",
       "      <th>total_users</th>\n",
       "      <th>%</th>\n",
       "    </tr>\n",
       "  </thead>\n",
       "  <tbody>\n",
       "    <tr>\n",
       "      <th>0</th>\n",
       "      <td>MainScreenAppear</td>\n",
       "      <td>7419</td>\n",
       "      <td>98.47</td>\n",
       "    </tr>\n",
       "    <tr>\n",
       "      <th>1</th>\n",
       "      <td>OffersScreenAppear</td>\n",
       "      <td>4593</td>\n",
       "      <td>60.96</td>\n",
       "    </tr>\n",
       "    <tr>\n",
       "      <th>2</th>\n",
       "      <td>CartScreenAppear</td>\n",
       "      <td>3734</td>\n",
       "      <td>49.56</td>\n",
       "    </tr>\n",
       "    <tr>\n",
       "      <th>3</th>\n",
       "      <td>PaymentScreenSuccessful</td>\n",
       "      <td>3539</td>\n",
       "      <td>46.97</td>\n",
       "    </tr>\n",
       "  </tbody>\n",
       "</table>\n",
       "</div>"
      ],
      "text/plain": [
       "                event_name  total_users      %\n",
       "0         MainScreenAppear         7419  98.47\n",
       "1       OffersScreenAppear         4593  60.96\n",
       "2         CartScreenAppear         3734  49.56\n",
       "3  PaymentScreenSuccessful         3539  46.97"
      ]
     },
     "execution_count": 21,
     "metadata": {},
     "output_type": "execute_result"
    }
   ],
   "source": [
    "# Для построения воронки исключаем обучение\n",
    "events_hole = events_hole.query('event_name != \"Tutorial\"')\n",
    "events_hole"
   ]
  },
  {
   "cell_type": "code",
   "execution_count": 22,
   "id": "7b62f343",
   "metadata": {},
   "outputs": [
    {
     "data": {
      "text/html": [
       "<div>\n",
       "<style scoped>\n",
       "    .dataframe tbody tr th:only-of-type {\n",
       "        vertical-align: middle;\n",
       "    }\n",
       "\n",
       "    .dataframe tbody tr th {\n",
       "        vertical-align: top;\n",
       "    }\n",
       "\n",
       "    .dataframe thead th {\n",
       "        text-align: right;\n",
       "    }\n",
       "</style>\n",
       "<table border=\"1\" class=\"dataframe\">\n",
       "  <thead>\n",
       "    <tr style=\"text-align: right;\">\n",
       "      <th></th>\n",
       "      <th>event_name</th>\n",
       "      <th>total_users</th>\n",
       "      <th>%</th>\n",
       "      <th>funnel, %</th>\n",
       "    </tr>\n",
       "  </thead>\n",
       "  <tbody>\n",
       "    <tr>\n",
       "      <th>0</th>\n",
       "      <td>MainScreenAppear</td>\n",
       "      <td>7419</td>\n",
       "      <td>98.47</td>\n",
       "      <td>100.0</td>\n",
       "    </tr>\n",
       "    <tr>\n",
       "      <th>1</th>\n",
       "      <td>OffersScreenAppear</td>\n",
       "      <td>4593</td>\n",
       "      <td>60.96</td>\n",
       "      <td>61.9</td>\n",
       "    </tr>\n",
       "    <tr>\n",
       "      <th>2</th>\n",
       "      <td>CartScreenAppear</td>\n",
       "      <td>3734</td>\n",
       "      <td>49.56</td>\n",
       "      <td>81.3</td>\n",
       "    </tr>\n",
       "    <tr>\n",
       "      <th>3</th>\n",
       "      <td>PaymentScreenSuccessful</td>\n",
       "      <td>3539</td>\n",
       "      <td>46.97</td>\n",
       "      <td>94.8</td>\n",
       "    </tr>\n",
       "  </tbody>\n",
       "</table>\n",
       "</div>"
      ],
      "text/plain": [
       "                event_name  total_users      %  funnel, %\n",
       "0         MainScreenAppear         7419  98.47      100.0\n",
       "1       OffersScreenAppear         4593  60.96       61.9\n",
       "2         CartScreenAppear         3734  49.56       81.3\n",
       "3  PaymentScreenSuccessful         3539  46.97       94.8"
      ]
     },
     "execution_count": 22,
     "metadata": {},
     "output_type": "execute_result"
    }
   ],
   "source": [
    "# построим воронку\n",
    "events_hole['funnel, %'] = 100\n",
    "for i in range(1, len(events_hole)):\n",
    "    events_hole.loc[i, 'funnel, %'] = \\\n",
    "    ((events_hole.loc[i, 'total_users'] / (events_hole.loc[i - 1, 'total_users'])) * 100).round(1)\n",
    "events_hole"
   ]
  },
  {
   "cell_type": "markdown",
   "id": "7fd67edd",
   "metadata": {},
   "source": [
    "По данным из воронки видно:\n",
    "\n",
    "- первый шаг - 100%\n",
    "- второй шаг - 61.9% от первого\n",
    "- третий шаг - 81.3% от второго\n",
    "- четвертый шаг - 94.8% от третьего"
   ]
  },
  {
   "cell_type": "markdown",
   "id": "2181d0d5",
   "metadata": {},
   "source": [
    "**Выводы:**\n",
    "\n",
    "Больше всего пользователей теряется после просмотра главной страницы (38.1%). Возможно, отделу маркетинга стоит поработать с данным моментом, чтобы лучше удерживать потенциального покупателя. Чем дальше идет пользователь, тем он больше уверен в своем желании совершить покупку, так как проблем на шагах, следующих за главным экраном не наблюдается. Все же стоит обратить внимание, почему с предпоследнего шага оплаты до последнего успешной оплаты теряется 5.2% пользователей. Возможно, есть какие-то технические трудности при оплате или же клиент передумывает в последний момент о покупке. От первого события до оплаты доходит 47% пользователей приложения."
   ]
  },
  {
   "cell_type": "markdown",
   "id": "2fb2884d",
   "metadata": {},
   "source": [
    "## Анализ результата эксперимента"
   ]
  },
  {
   "cell_type": "markdown",
   "id": "bc35e0af",
   "metadata": {},
   "source": [
    "Для анализа возьмем актуальные данные за вторую неделю. Посмотрим сколько пользователей в каждой экспериментальной группе."
   ]
  },
  {
   "cell_type": "code",
   "execution_count": 23,
   "id": "9d6f69f3",
   "metadata": {
    "scrolled": true
   },
   "outputs": [
    {
     "data": {
      "text/plain": [
       "group\n",
       "A1      2484\n",
       "A2      2513\n",
       "B       2537\n",
       "A1A2    4997\n",
       "Name: user_id, dtype: int64"
      ]
     },
     "execution_count": 23,
     "metadata": {},
     "output_type": "execute_result"
    }
   ],
   "source": [
    "logs_group = logs_new.groupby('group')['user_id'].nunique()\n",
    "logs_group['A1A2'] = logs_group['A1'] + logs_group['A2']\n",
    "logs_group"
   ]
  },
  {
   "cell_type": "markdown",
   "id": "06c875c6",
   "metadata": {},
   "source": [
    "Всего имеются три группы пользователей: группы A1 и A1 - контрольные, группа B - экспериментальная. В них по 2484, 2513 и 2537 человек соответственно."
   ]
  },
  {
   "cell_type": "markdown",
   "id": "5ff51fe3",
   "metadata": {},
   "source": [
    "**Проверим критерии успешного A/A теста:**\n",
    "\n",
    "- Количество пользователей в различных группах различается не более, чем на 1% или 0.5%\n",
    "- Для всех групп фиксируют и отправляют в системы аналитики данные об одном и том же\n",
    "- Различие ключевых метрик по группам не превышает 1% и не имеет статистической значимости\n",
    "- Попавший в одну из групп посетитель остаётся в этой группе до конца теста. Если пользователь видит разные версии исследуемой страницы в ходе одного исследования, неизвестно, какая именно повлияла на его решения. Значит, и результаты такого теста нельзя трактовать однозначно."
   ]
  },
  {
   "cell_type": "code",
   "execution_count": 24,
   "id": "d260f66e",
   "metadata": {},
   "outputs": [
    {
     "name": "stdout",
     "output_type": "stream",
     "text": [
      "Разница между группой A1 и A2 составляет: 1.15 %\n"
     ]
    }
   ],
   "source": [
    "print(f'Разница между группой A1 и A2 составляет: {round((100 - (logs_group.A1 / logs_group.A2 * 100)), 2)} %')"
   ]
  },
  {
   "cell_type": "markdown",
   "id": "8388d57b",
   "metadata": {},
   "source": [
    "Группы отличаются по количеству более, чем на 1%. Проверить, как зафиксированы и отправлены данные, мы не можем, поэтому будем полагаться на источник наших данных. Среди пользователей нет тех, кто одновременно попал в разные группы. Остается проверить различие ключевых метрик и статистическую значимость."
   ]
  },
  {
   "cell_type": "markdown",
   "id": "219e1568",
   "metadata": {},
   "source": [
    "Посчитаем число пользователей, совершивших самое популярное событие в каждой из контрольных групп. Посчитаем долю пользователей, совершивших это событие. Проверим, будет ли отличие между группами статистически достоверным."
   ]
  },
  {
   "cell_type": "code",
   "execution_count": 25,
   "id": "ea4735e0",
   "metadata": {},
   "outputs": [
    {
     "data": {
      "text/html": [
       "<div>\n",
       "<style scoped>\n",
       "    .dataframe tbody tr th:only-of-type {\n",
       "        vertical-align: middle;\n",
       "    }\n",
       "\n",
       "    .dataframe tbody tr th {\n",
       "        vertical-align: top;\n",
       "    }\n",
       "\n",
       "    .dataframe thead th {\n",
       "        text-align: right;\n",
       "    }\n",
       "</style>\n",
       "<table border=\"1\" class=\"dataframe\">\n",
       "  <thead>\n",
       "    <tr style=\"text-align: right;\">\n",
       "      <th>group</th>\n",
       "      <th>A1</th>\n",
       "      <th>A2</th>\n",
       "      <th>B</th>\n",
       "      <th>A1A2</th>\n",
       "      <th>all</th>\n",
       "    </tr>\n",
       "    <tr>\n",
       "      <th>event_name</th>\n",
       "      <th></th>\n",
       "      <th></th>\n",
       "      <th></th>\n",
       "      <th></th>\n",
       "      <th></th>\n",
       "    </tr>\n",
       "  </thead>\n",
       "  <tbody>\n",
       "    <tr>\n",
       "      <th>MainScreenAppear</th>\n",
       "      <td>2450</td>\n",
       "      <td>2476</td>\n",
       "      <td>2493</td>\n",
       "      <td>4926</td>\n",
       "      <td>7419</td>\n",
       "    </tr>\n",
       "    <tr>\n",
       "      <th>OffersScreenAppear</th>\n",
       "      <td>1542</td>\n",
       "      <td>1520</td>\n",
       "      <td>1531</td>\n",
       "      <td>3062</td>\n",
       "      <td>4593</td>\n",
       "    </tr>\n",
       "    <tr>\n",
       "      <th>CartScreenAppear</th>\n",
       "      <td>1266</td>\n",
       "      <td>1238</td>\n",
       "      <td>1230</td>\n",
       "      <td>2504</td>\n",
       "      <td>3734</td>\n",
       "    </tr>\n",
       "    <tr>\n",
       "      <th>PaymentScreenSuccessful</th>\n",
       "      <td>1200</td>\n",
       "      <td>1158</td>\n",
       "      <td>1181</td>\n",
       "      <td>2358</td>\n",
       "      <td>3539</td>\n",
       "    </tr>\n",
       "  </tbody>\n",
       "</table>\n",
       "</div>"
      ],
      "text/plain": [
       "group                      A1    A2     B  A1A2   all\n",
       "event_name                                           \n",
       "MainScreenAppear         2450  2476  2493  4926  7419\n",
       "OffersScreenAppear       1542  1520  1531  3062  4593\n",
       "CartScreenAppear         1266  1238  1230  2504  3734\n",
       "PaymentScreenSuccessful  1200  1158  1181  2358  3539"
      ]
     },
     "execution_count": 25,
     "metadata": {},
     "output_type": "execute_result"
    }
   ],
   "source": [
    "# Создадим таблицу с количеством пользователей из каждой группы с разбивкой по шагам воронки\n",
    "logs_per_event = logs_new.query('event_name != \"Tutorial\"').pivot_table(\n",
    "    index = 'event_name', \n",
    "    columns = 'group', \n",
    "    values = 'user_id',\n",
    "    aggfunc = 'nunique').sort_values(by = 'B', ascending = False)\n",
    "\n",
    "logs_per_event['A1A2'] = logs_per_event['A1'] + logs_per_event['A2']\n",
    "logs_per_event['all'] = logs_per_event['A1A2'] + logs_per_event['B']\n",
    "logs_per_event"
   ]
  },
  {
   "cell_type": "code",
   "execution_count": 26,
   "id": "2fb1d472",
   "metadata": {
    "scrolled": false
   },
   "outputs": [
    {
     "data": {
      "text/html": [
       "<div>\n",
       "<style scoped>\n",
       "    .dataframe tbody tr th:only-of-type {\n",
       "        vertical-align: middle;\n",
       "    }\n",
       "\n",
       "    .dataframe tbody tr th {\n",
       "        vertical-align: top;\n",
       "    }\n",
       "\n",
       "    .dataframe thead th {\n",
       "        text-align: right;\n",
       "    }\n",
       "</style>\n",
       "<table border=\"1\" class=\"dataframe\">\n",
       "  <thead>\n",
       "    <tr style=\"text-align: right;\">\n",
       "      <th>group</th>\n",
       "      <th>A1</th>\n",
       "      <th>A2</th>\n",
       "      <th>B</th>\n",
       "      <th>A1A2</th>\n",
       "      <th>all</th>\n",
       "      <th>part_A1</th>\n",
       "      <th>part_A2</th>\n",
       "      <th>part_B</th>\n",
       "      <th>part_A1A2</th>\n",
       "    </tr>\n",
       "    <tr>\n",
       "      <th>event_name</th>\n",
       "      <th></th>\n",
       "      <th></th>\n",
       "      <th></th>\n",
       "      <th></th>\n",
       "      <th></th>\n",
       "      <th></th>\n",
       "      <th></th>\n",
       "      <th></th>\n",
       "      <th></th>\n",
       "    </tr>\n",
       "  </thead>\n",
       "  <tbody>\n",
       "    <tr>\n",
       "      <th>MainScreenAppear</th>\n",
       "      <td>2450</td>\n",
       "      <td>2476</td>\n",
       "      <td>2493</td>\n",
       "      <td>4926</td>\n",
       "      <td>7419</td>\n",
       "      <td>98.63</td>\n",
       "      <td>98.53</td>\n",
       "      <td>98.27</td>\n",
       "      <td>98.58</td>\n",
       "    </tr>\n",
       "    <tr>\n",
       "      <th>OffersScreenAppear</th>\n",
       "      <td>1542</td>\n",
       "      <td>1520</td>\n",
       "      <td>1531</td>\n",
       "      <td>3062</td>\n",
       "      <td>4593</td>\n",
       "      <td>62.08</td>\n",
       "      <td>60.49</td>\n",
       "      <td>60.35</td>\n",
       "      <td>61.28</td>\n",
       "    </tr>\n",
       "    <tr>\n",
       "      <th>CartScreenAppear</th>\n",
       "      <td>1266</td>\n",
       "      <td>1238</td>\n",
       "      <td>1230</td>\n",
       "      <td>2504</td>\n",
       "      <td>3734</td>\n",
       "      <td>50.97</td>\n",
       "      <td>49.26</td>\n",
       "      <td>48.48</td>\n",
       "      <td>50.11</td>\n",
       "    </tr>\n",
       "    <tr>\n",
       "      <th>PaymentScreenSuccessful</th>\n",
       "      <td>1200</td>\n",
       "      <td>1158</td>\n",
       "      <td>1181</td>\n",
       "      <td>2358</td>\n",
       "      <td>3539</td>\n",
       "      <td>48.31</td>\n",
       "      <td>46.08</td>\n",
       "      <td>46.55</td>\n",
       "      <td>47.19</td>\n",
       "    </tr>\n",
       "  </tbody>\n",
       "</table>\n",
       "</div>"
      ],
      "text/plain": [
       "group                      A1    A2     B  A1A2   all  part_A1  part_A2  \\\n",
       "event_name                                                                \n",
       "MainScreenAppear         2450  2476  2493  4926  7419    98.63    98.53   \n",
       "OffersScreenAppear       1542  1520  1531  3062  4593    62.08    60.49   \n",
       "CartScreenAppear         1266  1238  1230  2504  3734    50.97    49.26   \n",
       "PaymentScreenSuccessful  1200  1158  1181  2358  3539    48.31    46.08   \n",
       "\n",
       "group                    part_B  part_A1A2  \n",
       "event_name                                  \n",
       "MainScreenAppear          98.27      98.58  \n",
       "OffersScreenAppear        60.35      61.28  \n",
       "CartScreenAppear          48.48      50.11  \n",
       "PaymentScreenSuccessful   46.55      47.19  "
      ]
     },
     "execution_count": 26,
     "metadata": {},
     "output_type": "execute_result"
    }
   ],
   "source": [
    "# Добавим доли пользователей из каждой группы с разбивкой по шагам воронки\n",
    "logs_per_event['part_A1'] = (logs_per_event['A1'] / logs_group['A1'] * 100).round(2)\n",
    "logs_per_event['part_A2'] = (logs_per_event['A2'] / logs_group['A2'] * 100).round(2)\n",
    "logs_per_event['part_B'] = (logs_per_event['B'] / logs_group['B'] * 100).round(2)\n",
    "logs_per_event['part_A1A2'] = ((logs_per_event['A1A2']) / \\\n",
    "                               (logs_group['A1'] + logs_group['A2']) * 100).round(2)\n",
    "logs_per_event"
   ]
  },
  {
   "cell_type": "markdown",
   "id": "28b4f37a",
   "metadata": {},
   "source": [
    "Судя по воронке данных всех трех групп очень близки по значениям."
   ]
  },
  {
   "cell_type": "markdown",
   "id": "f6d76168",
   "metadata": {},
   "source": [
    "Задача сравнения пропорций двух генеральных совокупностей по выборкам из них - z-тест."
   ]
  },
  {
   "cell_type": "markdown",
   "id": "29029864",
   "metadata": {},
   "source": [
    "Сформулируем гипотезы:\n",
    "\n",
    "- **H0:** Cтатистически значимых различий в конверсии между группами нет\n",
    "- **H1:** Cтатистически значимые различия в конверсии между группами есть"
   ]
  },
  {
   "cell_type": "markdown",
   "id": "c3f0df1e",
   "metadata": {},
   "source": [
    "Напишем отдельную функцию для проверки статистически значимой разницы для всех событий и узнаем корректно ли разбиение на группы. Важно учесть поправку Бонферрони для уменьшения вероятности ошибиться, так как имеем дело с множественным сравнением. Всего проводим 4 А/А-теста и 12 А/В-тестов."
   ]
  },
  {
   "cell_type": "code",
   "execution_count": 27,
   "id": "64b12364",
   "metadata": {},
   "outputs": [],
   "source": [
    "def z_test(group1, group2, event, alpha=0.05): \n",
    "    \n",
    "    p1_event = logs_per_event[group1][event]\n",
    "    p2_event = logs_per_event[group2][event]\n",
    "    \n",
    "    p1_users = logs_group.loc[group1] \n",
    "    p2_users = logs_group.loc[group2] \n",
    "    \n",
    "    # пропорция успехов в первой группе:\n",
    "    p1 = p1_event / p1_users \n",
    "    # пропорция успехов во второй группе\n",
    "    p2 = p2_event / p2_users \n",
    "    \n",
    "    # пропорция успехов в комбинированном датасете\n",
    "    p_combined = (p1_event + p2_event) / (p1_users + p2_users) \n",
    "    \n",
    "    # разница пропорций в датасетах\n",
    "    difference = p1 - p2\n",
    "    \n",
    "    # считаем статистику в ст.отклонениях стандартного нормального распределения\n",
    "    z_value = difference / mth.sqrt(p_combined * (1 - p_combined) * (1 / p1_users + 1 / p2_users))\n",
    "    \n",
    "    # задаем стандартное нормальное распределение (среднее 0, ст.отклонение 1)\n",
    "    distr = st.norm(0, 1)\n",
    "    p_value = (1 - distr.cdf(abs(z_value))) * 2\n",
    "    \n",
    "    # введем поправку Бонферрони, поделим альфа на число гипотез для всех проверок\n",
    "    # всего проверок: 4(кол-во событий) * 4(кол-во попарных проверок: A1-A2, A1-B, A2-B, (A1+A2-B)) = 16\n",
    "    bonferroni_alpha = alpha / 16\n",
    "    \n",
    "    print('Проверка для групп {} и {}, событие: {}, p-значение: {p_value:.2f}'.\\\n",
    "          format(group1, group2, event, p_value = p_value))\n",
    "    \n",
    "    if (p_value < bonferroni_alpha):\n",
    "        print(\"Отвергаем нулевую гипотезу о равенстве данных в группах\")\n",
    "    else:\n",
    "        print(\"Не получилось отвергнуть нулевую гипотезу о равенстве данных в группах\")"
   ]
  },
  {
   "cell_type": "markdown",
   "id": "a5fe1c94",
   "metadata": {},
   "source": [
    "Проверим, находят ли статистические критерии разницу между выборками А1 и А2."
   ]
  },
  {
   "cell_type": "code",
   "execution_count": 28,
   "id": "5d4be3fd",
   "metadata": {
    "scrolled": false
   },
   "outputs": [
    {
     "name": "stdout",
     "output_type": "stream",
     "text": [
      "Проверка для групп A1 и A2, событие: MainScreenAppear, p-значение: 0.76\n",
      "Не получилось отвергнуть нулевую гипотезу о равенстве данных в группах\n",
      "----------------------------------------------------------------------\n",
      "Проверка для групп A1 и A2, событие: OffersScreenAppear, p-значение: 0.25\n",
      "Не получилось отвергнуть нулевую гипотезу о равенстве данных в группах\n",
      "----------------------------------------------------------------------\n",
      "Проверка для групп A1 и A2, событие: CartScreenAppear, p-значение: 0.23\n",
      "Не получилось отвергнуть нулевую гипотезу о равенстве данных в группах\n",
      "----------------------------------------------------------------------\n",
      "Проверка для групп A1 и A2, событие: PaymentScreenSuccessful, p-значение: 0.11\n",
      "Не получилось отвергнуть нулевую гипотезу о равенстве данных в группах\n",
      "----------------------------------------------------------------------\n"
     ]
    }
   ],
   "source": [
    "for event in logs_per_event.index:\n",
    "    z_test('A1', 'A2', event)\n",
    "    print('-' * 70)"
   ]
  },
  {
   "cell_type": "markdown",
   "id": "4c0b9d2e",
   "metadata": {},
   "source": [
    "**Вывод:** разбивка на группы работает корректно, несмотря на отличия между группами. Нет статистически значимой разницы для всех событий воронки продаж в группах A1 и A2."
   ]
  },
  {
   "cell_type": "markdown",
   "id": "14aefb7f",
   "metadata": {},
   "source": [
    "Сравним результаты с каждой из контрольных групп в отдельности по каждому событию."
   ]
  },
  {
   "cell_type": "code",
   "execution_count": 29,
   "id": "b63adeac",
   "metadata": {
    "scrolled": true
   },
   "outputs": [
    {
     "name": "stdout",
     "output_type": "stream",
     "text": [
      "Проверка для групп A1 и B, событие: MainScreenAppear, p-значение: 0.29\n",
      "Не получилось отвергнуть нулевую гипотезу о равенстве данных в группах\n",
      "----------------------------------------------------------------------\n",
      "Проверка для групп A1 и B, событие: OffersScreenAppear, p-значение: 0.21\n",
      "Не получилось отвергнуть нулевую гипотезу о равенстве данных в группах\n",
      "----------------------------------------------------------------------\n",
      "Проверка для групп A1 и B, событие: CartScreenAppear, p-значение: 0.08\n",
      "Не получилось отвергнуть нулевую гипотезу о равенстве данных в группах\n",
      "----------------------------------------------------------------------\n",
      "Проверка для групп A1 и B, событие: PaymentScreenSuccessful, p-значение: 0.21\n",
      "Не получилось отвергнуть нулевую гипотезу о равенстве данных в группах\n",
      "----------------------------------------------------------------------\n"
     ]
    }
   ],
   "source": [
    "for event in logs_per_event.index:\n",
    "    z_test('A1', 'B', event)\n",
    "    print('-' * 70)"
   ]
  },
  {
   "cell_type": "markdown",
   "id": "bc44ec72",
   "metadata": {},
   "source": [
    "**Вывод:** Нет статистически значимой разницы для всех событий воронки продаж в группах A1 и B."
   ]
  },
  {
   "cell_type": "code",
   "execution_count": 30,
   "id": "6cccb6d7",
   "metadata": {
    "scrolled": true
   },
   "outputs": [
    {
     "name": "stdout",
     "output_type": "stream",
     "text": [
      "Проверка для групп A2 и B, событие: MainScreenAppear, p-значение: 0.46\n",
      "Не получилось отвергнуть нулевую гипотезу о равенстве данных в группах\n",
      "----------------------------------------------------------------------\n",
      "Проверка для групп A2 и B, событие: OffersScreenAppear, p-значение: 0.92\n",
      "Не получилось отвергнуть нулевую гипотезу о равенстве данных в группах\n",
      "----------------------------------------------------------------------\n",
      "Проверка для групп A2 и B, событие: CartScreenAppear, p-значение: 0.58\n",
      "Не получилось отвергнуть нулевую гипотезу о равенстве данных в группах\n",
      "----------------------------------------------------------------------\n",
      "Проверка для групп A2 и B, событие: PaymentScreenSuccessful, p-значение: 0.74\n",
      "Не получилось отвергнуть нулевую гипотезу о равенстве данных в группах\n",
      "----------------------------------------------------------------------\n"
     ]
    }
   ],
   "source": [
    "for event in logs_per_event.index:\n",
    "    z_test('A2', 'B', event)\n",
    "    print('-' * 70)"
   ]
  },
  {
   "cell_type": "markdown",
   "id": "40d4fec6",
   "metadata": {},
   "source": [
    "**Вывод:** Нет статистически значимой разницы для всех событий воронки продаж в группах A2 и B."
   ]
  },
  {
   "cell_type": "markdown",
   "id": "56988a9a",
   "metadata": {},
   "source": [
    "Сравним результаты с объединённой контрольной группой."
   ]
  },
  {
   "cell_type": "code",
   "execution_count": 31,
   "id": "30abb62c",
   "metadata": {},
   "outputs": [
    {
     "name": "stdout",
     "output_type": "stream",
     "text": [
      "Проверка для групп A1A2 и B, событие: MainScreenAppear, p-значение: 0.29\n",
      "Не получилось отвергнуть нулевую гипотезу о равенстве данных в группах\n",
      "----------------------------------------------------------------------\n",
      "Проверка для групп A1A2 и B, событие: OffersScreenAppear, p-значение: 0.43\n",
      "Не получилось отвергнуть нулевую гипотезу о равенстве данных в группах\n",
      "----------------------------------------------------------------------\n",
      "Проверка для групп A1A2 и B, событие: CartScreenAppear, p-значение: 0.18\n",
      "Не получилось отвергнуть нулевую гипотезу о равенстве данных в группах\n",
      "----------------------------------------------------------------------\n",
      "Проверка для групп A1A2 и B, событие: PaymentScreenSuccessful, p-значение: 0.60\n",
      "Не получилось отвергнуть нулевую гипотезу о равенстве данных в группах\n",
      "----------------------------------------------------------------------\n"
     ]
    }
   ],
   "source": [
    "for event in logs_per_event.index:\n",
    "    z_test('A1A2', 'B', event)\n",
    "    print('-' * 70)"
   ]
  },
  {
   "cell_type": "markdown",
   "id": "15b2ca62",
   "metadata": {},
   "source": [
    "**Вывод:** Нет статистически значимой разницы для всех событий воронки продаж в группах A1A2(объединение двух контрольных групп) и B."
   ]
  },
  {
   "cell_type": "markdown",
   "id": "31b2ec8f",
   "metadata": {},
   "source": [
    "## Итоги:"
   ]
  },
  {
   "cell_type": "markdown",
   "id": "ac80e1d1",
   "metadata": {},
   "source": [
    "Необходимо было проанализировать конверсию пользователей в приложении и изучить результаты А/А/В-теста, в котором 2 контрольные(A1 и A2) группы видели версию приложения со старыми шрифтами, а экспериментальная(B) с новыми и нужно было понять, как это изменение отразиться но поведении пользователей.\n",
    "\n",
    "Пропущенных значений в исходных даных не было, дубликаты были удалены, названия столбцов переименованы, добавлены новые столбцы с датами, приведены типы данных, изменены названия тестовых групп. \n",
    "\n",
    "После обработки данных мы потеряли всего около 1% данных по событиям и пользователям. \n",
    "\n",
    "Анализ воронки продаж выявил: \n",
    "\n",
    "- событие Tutorial(обучение) самое невостребованное, то есть большинство пользователей его просто игнорируют.\n",
    "- с первого шага до последнего доходят только 48% клиентов, что в принципе неплохо\n",
    "- больше всего пользователей мы теряем при переходе с главного экрана к продуктам - 38.1% (тут явно есть над чем поработать)\n",
    "- на последнем шаге теряется 5.2% пользователей, возможно есть какие-то технические трудности при оплате или же потребитель передумывает в последний момент о покупке\n",
    "\n",
    "Группы для А/А/В-тестов были корректными, несмотря на разницу чуть больше рекомендованого 1% между контрольными группами А1 и А2 в количестве пользователей. При проверке статистических гипотез выбрали уровень значимости равный 5%, применяя поправку Бонферрони, так как работали с множественным сравнением.\n",
    "\n",
    "По результатам теста не было выявлено различий между контрольными и эксперементальной группами, что говорит о том, что замена шрифтов никак не повлияла на пользователей. Опасения менеджеров, что пользователям будет непривычно не оправдались."
   ]
  }
 ],
 "metadata": {
  "ExecuteTimeLog": [
   {
    "duration": 1216,
    "start_time": "2023-03-03T22:19:37.740Z"
   },
   {
    "duration": 537,
    "start_time": "2023-03-03T22:19:38.958Z"
   },
   {
    "duration": 109,
    "start_time": "2023-03-03T22:19:39.497Z"
   },
   {
    "duration": 8,
    "start_time": "2023-03-03T22:19:39.617Z"
   },
   {
    "duration": 118,
    "start_time": "2023-03-03T22:19:39.629Z"
   },
   {
    "duration": 105,
    "start_time": "2023-03-03T22:19:39.749Z"
   },
   {
    "duration": 43,
    "start_time": "2023-03-03T22:19:39.856Z"
   },
   {
    "duration": 62,
    "start_time": "2023-03-03T22:19:39.901Z"
   },
   {
    "duration": 18,
    "start_time": "2023-03-03T22:19:39.965Z"
   },
   {
    "duration": 43,
    "start_time": "2023-03-03T22:19:39.985Z"
   },
   {
    "duration": 354,
    "start_time": "2023-03-03T22:19:40.032Z"
   },
   {
    "duration": 81,
    "start_time": "2023-03-03T22:19:40.388Z"
   },
   {
    "duration": 6,
    "start_time": "2023-03-03T22:19:40.470Z"
   },
   {
    "duration": 111,
    "start_time": "2023-03-03T22:19:40.480Z"
   },
   {
    "duration": 54,
    "start_time": "2023-03-03T22:19:40.592Z"
   },
   {
    "duration": 56,
    "start_time": "2023-03-03T22:19:40.648Z"
   },
   {
    "duration": 38,
    "start_time": "2023-03-03T22:19:40.718Z"
   },
   {
    "duration": 71,
    "start_time": "2023-03-03T22:19:40.758Z"
   },
   {
    "duration": 168,
    "start_time": "2023-03-03T22:19:40.836Z"
   },
   {
    "duration": 19,
    "start_time": "2023-03-03T22:19:41.006Z"
   },
   {
    "duration": 17,
    "start_time": "2023-03-03T22:19:41.035Z"
   },
   {
    "duration": 55,
    "start_time": "2023-03-03T22:19:41.055Z"
   },
   {
    "duration": 6,
    "start_time": "2023-03-03T22:19:41.111Z"
   },
   {
    "duration": 164,
    "start_time": "2023-03-03T22:19:41.119Z"
   },
   {
    "duration": 16,
    "start_time": "2023-03-03T22:19:41.285Z"
   },
   {
    "duration": 18,
    "start_time": "2023-03-03T22:19:41.303Z"
   },
   {
    "duration": 44,
    "start_time": "2023-03-03T22:19:41.328Z"
   },
   {
    "duration": 16,
    "start_time": "2023-03-03T22:19:41.374Z"
   },
   {
    "duration": 24,
    "start_time": "2023-03-03T22:19:41.391Z"
   },
   {
    "duration": 44,
    "start_time": "2023-03-03T22:19:41.423Z"
   },
   {
    "duration": 11,
    "start_time": "2023-03-03T22:19:41.468Z"
   },
   {
    "duration": 11,
    "start_time": "2023-03-03T22:29:52.989Z"
   },
   {
    "duration": 13,
    "start_time": "2023-03-03T22:36:08.459Z"
   },
   {
    "duration": 648,
    "start_time": "2023-03-03T22:36:13.109Z"
   }
  ],
  "kernelspec": {
   "display_name": "Python 3 (ipykernel)",
   "language": "python",
   "name": "python3"
  },
  "language_info": {
   "codemirror_mode": {
    "name": "ipython",
    "version": 3
   },
   "file_extension": ".py",
   "mimetype": "text/x-python",
   "name": "python",
   "nbconvert_exporter": "python",
   "pygments_lexer": "ipython3",
   "version": "3.9.13"
  },
  "toc": {
   "base_numbering": 1,
   "nav_menu": {},
   "number_sections": false,
   "sideBar": true,
   "skip_h1_title": false,
   "title_cell": "Table of Contents",
   "title_sidebar": "Contents",
   "toc_cell": false,
   "toc_position": {},
   "toc_section_display": true,
   "toc_window_display": true
  }
 },
 "nbformat": 4,
 "nbformat_minor": 5
}
